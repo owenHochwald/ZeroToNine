{
 "cells": [
  {
   "cell_type": "markdown",
   "metadata": {},
   "source": [
    "# Zero To Nine - MNIST Digit Classification From Scratch"
   ]
  },
  {
   "cell_type": "markdown",
   "metadata": {},
   "source": [
    "#### Introduction\n",
    "Implementing a simple two layer neural network with a softmax output layer, trained on the MNIST digit dataset."
   ]
  },
  {
   "cell_type": "markdown",
   "metadata": {},
   "source": [
    "### Importing Libraries"
   ]
  },
  {
   "cell_type": "code",
   "execution_count": 9,
   "metadata": {},
   "outputs": [],
   "source": [
    "import numpy as np\n",
    "import pandas as pd\n",
    "from matplotlib import pyplot as plt"
   ]
  },
  {
   "cell_type": "markdown",
   "metadata": {},
   "source": [
    "### Loading Data"
   ]
  },
  {
   "cell_type": "code",
   "execution_count": 10,
   "metadata": {},
   "outputs": [
    {
     "data": {
      "text/html": [
       "<div>\n",
       "<style scoped>\n",
       "    .dataframe tbody tr th:only-of-type {\n",
       "        vertical-align: middle;\n",
       "    }\n",
       "\n",
       "    .dataframe tbody tr th {\n",
       "        vertical-align: top;\n",
       "    }\n",
       "\n",
       "    .dataframe thead th {\n",
       "        text-align: right;\n",
       "    }\n",
       "</style>\n",
       "<table border=\"1\" class=\"dataframe\">\n",
       "  <thead>\n",
       "    <tr style=\"text-align: right;\">\n",
       "      <th></th>\n",
       "      <th>label</th>\n",
       "      <th>pixel0</th>\n",
       "      <th>pixel1</th>\n",
       "      <th>pixel2</th>\n",
       "      <th>pixel3</th>\n",
       "      <th>pixel4</th>\n",
       "      <th>pixel5</th>\n",
       "      <th>pixel6</th>\n",
       "      <th>pixel7</th>\n",
       "      <th>pixel8</th>\n",
       "      <th>...</th>\n",
       "      <th>pixel774</th>\n",
       "      <th>pixel775</th>\n",
       "      <th>pixel776</th>\n",
       "      <th>pixel777</th>\n",
       "      <th>pixel778</th>\n",
       "      <th>pixel779</th>\n",
       "      <th>pixel780</th>\n",
       "      <th>pixel781</th>\n",
       "      <th>pixel782</th>\n",
       "      <th>pixel783</th>\n",
       "    </tr>\n",
       "  </thead>\n",
       "  <tbody>\n",
       "    <tr>\n",
       "      <th>0</th>\n",
       "      <td>1</td>\n",
       "      <td>0</td>\n",
       "      <td>0</td>\n",
       "      <td>0</td>\n",
       "      <td>0</td>\n",
       "      <td>0</td>\n",
       "      <td>0</td>\n",
       "      <td>0</td>\n",
       "      <td>0</td>\n",
       "      <td>0</td>\n",
       "      <td>...</td>\n",
       "      <td>0</td>\n",
       "      <td>0</td>\n",
       "      <td>0</td>\n",
       "      <td>0</td>\n",
       "      <td>0</td>\n",
       "      <td>0</td>\n",
       "      <td>0</td>\n",
       "      <td>0</td>\n",
       "      <td>0</td>\n",
       "      <td>0</td>\n",
       "    </tr>\n",
       "    <tr>\n",
       "      <th>1</th>\n",
       "      <td>0</td>\n",
       "      <td>0</td>\n",
       "      <td>0</td>\n",
       "      <td>0</td>\n",
       "      <td>0</td>\n",
       "      <td>0</td>\n",
       "      <td>0</td>\n",
       "      <td>0</td>\n",
       "      <td>0</td>\n",
       "      <td>0</td>\n",
       "      <td>...</td>\n",
       "      <td>0</td>\n",
       "      <td>0</td>\n",
       "      <td>0</td>\n",
       "      <td>0</td>\n",
       "      <td>0</td>\n",
       "      <td>0</td>\n",
       "      <td>0</td>\n",
       "      <td>0</td>\n",
       "      <td>0</td>\n",
       "      <td>0</td>\n",
       "    </tr>\n",
       "    <tr>\n",
       "      <th>2</th>\n",
       "      <td>1</td>\n",
       "      <td>0</td>\n",
       "      <td>0</td>\n",
       "      <td>0</td>\n",
       "      <td>0</td>\n",
       "      <td>0</td>\n",
       "      <td>0</td>\n",
       "      <td>0</td>\n",
       "      <td>0</td>\n",
       "      <td>0</td>\n",
       "      <td>...</td>\n",
       "      <td>0</td>\n",
       "      <td>0</td>\n",
       "      <td>0</td>\n",
       "      <td>0</td>\n",
       "      <td>0</td>\n",
       "      <td>0</td>\n",
       "      <td>0</td>\n",
       "      <td>0</td>\n",
       "      <td>0</td>\n",
       "      <td>0</td>\n",
       "    </tr>\n",
       "    <tr>\n",
       "      <th>3</th>\n",
       "      <td>4</td>\n",
       "      <td>0</td>\n",
       "      <td>0</td>\n",
       "      <td>0</td>\n",
       "      <td>0</td>\n",
       "      <td>0</td>\n",
       "      <td>0</td>\n",
       "      <td>0</td>\n",
       "      <td>0</td>\n",
       "      <td>0</td>\n",
       "      <td>...</td>\n",
       "      <td>0</td>\n",
       "      <td>0</td>\n",
       "      <td>0</td>\n",
       "      <td>0</td>\n",
       "      <td>0</td>\n",
       "      <td>0</td>\n",
       "      <td>0</td>\n",
       "      <td>0</td>\n",
       "      <td>0</td>\n",
       "      <td>0</td>\n",
       "    </tr>\n",
       "    <tr>\n",
       "      <th>4</th>\n",
       "      <td>0</td>\n",
       "      <td>0</td>\n",
       "      <td>0</td>\n",
       "      <td>0</td>\n",
       "      <td>0</td>\n",
       "      <td>0</td>\n",
       "      <td>0</td>\n",
       "      <td>0</td>\n",
       "      <td>0</td>\n",
       "      <td>0</td>\n",
       "      <td>...</td>\n",
       "      <td>0</td>\n",
       "      <td>0</td>\n",
       "      <td>0</td>\n",
       "      <td>0</td>\n",
       "      <td>0</td>\n",
       "      <td>0</td>\n",
       "      <td>0</td>\n",
       "      <td>0</td>\n",
       "      <td>0</td>\n",
       "      <td>0</td>\n",
       "    </tr>\n",
       "  </tbody>\n",
       "</table>\n",
       "<p>5 rows × 785 columns</p>\n",
       "</div>"
      ],
      "text/plain": [
       "   label  pixel0  pixel1  pixel2  pixel3  pixel4  pixel5  pixel6  pixel7  \\\n",
       "0      1       0       0       0       0       0       0       0       0   \n",
       "1      0       0       0       0       0       0       0       0       0   \n",
       "2      1       0       0       0       0       0       0       0       0   \n",
       "3      4       0       0       0       0       0       0       0       0   \n",
       "4      0       0       0       0       0       0       0       0       0   \n",
       "\n",
       "   pixel8  ...  pixel774  pixel775  pixel776  pixel777  pixel778  pixel779  \\\n",
       "0       0  ...         0         0         0         0         0         0   \n",
       "1       0  ...         0         0         0         0         0         0   \n",
       "2       0  ...         0         0         0         0         0         0   \n",
       "3       0  ...         0         0         0         0         0         0   \n",
       "4       0  ...         0         0         0         0         0         0   \n",
       "\n",
       "   pixel780  pixel781  pixel782  pixel783  \n",
       "0         0         0         0         0  \n",
       "1         0         0         0         0  \n",
       "2         0         0         0         0  \n",
       "3         0         0         0         0  \n",
       "4         0         0         0         0  \n",
       "\n",
       "[5 rows x 785 columns]"
      ]
     },
     "execution_count": 10,
     "metadata": {},
     "output_type": "execute_result"
    }
   ],
   "source": [
    "data = pd.read_csv('data/train.csv')\n",
    "data.head()"
   ]
  },
  {
   "cell_type": "markdown",
   "metadata": {},
   "source": [
    "### Processing Data"
   ]
  },
  {
   "cell_type": "code",
   "execution_count": 11,
   "metadata": {},
   "outputs": [],
   "source": [
    "# turning into a numpy array\n",
    "data = np.array(data)\n",
    "# getting rows and columns of data\n",
    "m, n = data.shape\n",
    "# shuffling data to reduce any exisiting patterns\n",
    "np.random.shuffle(data)"
   ]
  },
  {
   "cell_type": "code",
   "execution_count": 17,
   "metadata": {},
   "outputs": [],
   "source": [
    "# transposing the matrix\n",
    "# first 1000 examples (can change this for a larger training set)\n",
    "data_dev = data[0:1000].T\n",
    "#  digit label\n",
    "data_dev = data[0:1000].T\n",
    "Y_dev = data_dev[0]\n",
    "X_dev = data_dev[1:n]\n",
    "X_dev = X_dev / 255.\n",
    "\n",
    "data_train = data[1000:m].T\n",
    "Y_train = data_train[0]\n",
    "X_train = data_train[1:n]\n",
    "X_train = X_train / 255.\n",
    "_,m_train = X_train.shape"
   ]
  },
  {
   "cell_type": "code",
   "execution_count": 18,
   "metadata": {},
   "outputs": [
    {
     "data": {
      "text/plain": [
       "array([4, 0, 1, ..., 7, 3, 2], shape=(41000,))"
      ]
     },
     "execution_count": 18,
     "metadata": {},
     "output_type": "execute_result"
    }
   ],
   "source": [
    "Y_train"
   ]
  },
  {
   "cell_type": "code",
   "execution_count": 19,
   "metadata": {},
   "outputs": [
    {
     "data": {
      "text/plain": [
       "(784,)"
      ]
     },
     "execution_count": 19,
     "metadata": {},
     "output_type": "execute_result"
    }
   ],
   "source": [
    "X_train[:, 0].shape"
   ]
  },
  {
   "cell_type": "markdown",
   "metadata": {},
   "source": [
    "# Developing Neural Network"
   ]
  },
  {
   "cell_type": "markdown",
   "metadata": {},
   "source": [
    "2 layer architecture with a input layer of 784 units (represents the input number of pixels). Then the first hidden layer with have 10 units of ReLU activation followed by a output layer of 10 units representated by probablities from the softmax function."
   ]
  },
  {
   "cell_type": "code",
   "execution_count": 24,
   "metadata": {},
   "outputs": [],
   "source": [
    "# initing weights\n",
    "def init_params():\n",
    "    # init to random weights\n",
    "    W1 = np.random.rand(10, 784) - 0.5\n",
    "    b1 = np.random.rand(10, 1) - 0.5\n",
    "    W2 = np.random.rand(10, 10) - 0.5\n",
    "    b2 = np.random.rand(10, 1) - 0.5\n",
    "    \n",
    "    return W1, b1, W2, b2\n",
    "\n",
    "def ReLU(Z):\n",
    "    return np.maximum(0, Z)\n",
    "\n",
    "def softmax(Z):\n",
    "    # returns a probability\n",
    "    return np.exp(Z) / sum(np.exp(Z))\n",
    "\n",
    "def forward_prop(W1, b1, W2, b2, X):\n",
    "    # getting dot product calculuations on the foward pass\n",
    "    Z1 = W1.dot(X) + b1\n",
    "    # activation funciton\n",
    "    A1 = ReLU(Z1)\n",
    "    # getting another dot product after the first layer\n",
    "    Z2 = W2.dot(A1) + b2\n",
    "    # using softmax to get out output\n",
    "    A2 = softmax(Z2)\n",
    "    \n",
    "    return Z1, A1, Z2, A2\n",
    "\n",
    "def one_hot(Y):\n",
    "    one_hot_Y = np.zeros((Y.size, Y.max() + 1))\n",
    "    one_hot_Y[np.arange(Y.size), Y] = 1\n",
    "    one_hot_Y = one_hot_Y.T\n",
    "    return one_hot_Y\n",
    "\n",
    "def deriv_ReLU(Z):\n",
    "    return Z > 0\n",
    "    \n",
    "\n",
    "def backward_prop(Z1, A1, Z2, A2, W1, W2, X, Y):\n",
    "    one_hot_Y = one_hot(Y)\n",
    "    dZ2 = A2 - one_hot_Y\n",
    "    dW2 = 1 / m * dZ2.dot(A1.T)\n",
    "    db2 = 1 / m * np.sum(dZ2)\n",
    "    dZ1 = W2.T.dot(dZ2) * deriv_ReLU(Z1)\n",
    "    dW1 = 1 / m * dZ1.dot(X.T)\n",
    "    db1 = 1 / m * np.sum(dZ1)\n",
    "    return dW1, db1, dW2, db2\n",
    "\n",
    "def update_params(W1, b1, W2, b2, dW1, db1, dW2, db2, alpha):\n",
    "    # updating weights and biases of model on the backward pass\n",
    "    W1 = W1 - alpha * dW1\n",
    "    b1 = b1 - alpha * db1    \n",
    "    W2 = W2 - alpha * dW2  \n",
    "    b2 = b2 - alpha * db2    \n",
    "    return W1, b1, W2, b2\n",
    "    "
   ]
  },
  {
   "cell_type": "code",
   "execution_count": 27,
   "metadata": {},
   "outputs": [],
   "source": [
    "def get_predictions(A2):\n",
    "    return np.argmax(A2, 0)\n",
    "\n",
    "def get_accuracy(predictions, Y):\n",
    "    print(predictions, Y)\n",
    "    return np.sum(predictions == Y) / Y.size\n",
    "\n",
    "def gradient_descent(X,Y, iterations, alpha):\n",
    "    W1, b1, W2, b2 = init_params()\n",
    "    for i in range(iterations):\n",
    "        Z1, A1, Z2, A2 = forward_prop(W1, b1, W2, b2, X)\n",
    "        dW1, db1, dW2, db2 = backward_prop(Z1, A1, Z2, A2, W1, W2, X, Y)\n",
    "        W1, b1, W2, b2 = update_params(W1, b1, W2, b2, dW1, db1, dW2, db2, alpha)\n",
    "        if i % 10 == 0:\n",
    "            print(\"Iteration: \", i)\n",
    "            predictions = get_predictions(A2)\n",
    "            print(get_accuracy(predictions, Y))\n",
    "    return W1, b1, W2, b2\n",
    "        "
   ]
  },
  {
   "cell_type": "code",
   "execution_count": 28,
   "metadata": {},
   "outputs": [
    {
     "name": "stdout",
     "output_type": "stream",
     "text": [
      "Iteration:  0\n",
      "[7 9 1 ... 7 7 1] [4 0 1 ... 7 3 2]\n",
      "0.14058536585365855\n",
      "Iteration:  10\n",
      "[7 0 1 ... 7 0 6] [4 0 1 ... 7 3 2]\n",
      "0.22495121951219513\n",
      "Iteration:  20\n",
      "[4 0 1 ... 7 0 8] [4 0 1 ... 7 3 2]\n",
      "0.2888292682926829\n",
      "Iteration:  30\n",
      "[4 0 1 ... 7 0 8] [4 0 1 ... 7 3 2]\n",
      "0.3390487804878049\n",
      "Iteration:  40\n",
      "[4 0 1 ... 7 0 6] [4 0 1 ... 7 3 2]\n",
      "0.39351219512195124\n",
      "Iteration:  50\n",
      "[4 0 1 ... 7 0 6] [4 0 1 ... 7 3 2]\n",
      "0.4618536585365854\n",
      "Iteration:  60\n",
      "[4 0 1 ... 7 3 6] [4 0 1 ... 7 3 2]\n",
      "0.5197317073170732\n",
      "Iteration:  70\n",
      "[4 0 1 ... 7 3 6] [4 0 1 ... 7 3 2]\n",
      "0.5620731707317074\n",
      "Iteration:  80\n",
      "[4 0 1 ... 7 3 6] [4 0 1 ... 7 3 2]\n",
      "0.5969512195121951\n",
      "Iteration:  90\n",
      "[4 0 1 ... 7 3 6] [4 0 1 ... 7 3 2]\n",
      "0.626219512195122\n",
      "Iteration:  100\n",
      "[4 0 1 ... 7 3 6] [4 0 1 ... 7 3 2]\n",
      "0.6506341463414634\n",
      "Iteration:  110\n",
      "[4 0 1 ... 7 3 6] [4 0 1 ... 7 3 2]\n",
      "0.6702682926829269\n",
      "Iteration:  120\n",
      "[4 0 1 ... 7 3 6] [4 0 1 ... 7 3 2]\n",
      "0.6875853658536585\n",
      "Iteration:  130\n",
      "[4 0 1 ... 7 3 6] [4 0 1 ... 7 3 2]\n",
      "0.7017073170731707\n",
      "Iteration:  140\n",
      "[4 0 1 ... 7 3 6] [4 0 1 ... 7 3 2]\n",
      "0.7136097560975609\n",
      "Iteration:  150\n",
      "[4 0 1 ... 7 3 6] [4 0 1 ... 7 3 2]\n",
      "0.7248780487804878\n",
      "Iteration:  160\n",
      "[4 0 1 ... 7 3 2] [4 0 1 ... 7 3 2]\n",
      "0.7344878048780488\n",
      "Iteration:  170\n",
      "[4 0 1 ... 7 3 2] [4 0 1 ... 7 3 2]\n",
      "0.7430487804878049\n",
      "Iteration:  180\n",
      "[4 0 1 ... 7 3 2] [4 0 1 ... 7 3 2]\n",
      "0.7504634146341463\n",
      "Iteration:  190\n",
      "[4 0 1 ... 7 3 2] [4 0 1 ... 7 3 2]\n",
      "0.7574634146341463\n",
      "Iteration:  200\n",
      "[4 0 1 ... 7 3 2] [4 0 1 ... 7 3 2]\n",
      "0.7636585365853659\n",
      "Iteration:  210\n",
      "[4 0 1 ... 7 3 2] [4 0 1 ... 7 3 2]\n",
      "0.7699512195121951\n",
      "Iteration:  220\n",
      "[4 0 1 ... 7 3 2] [4 0 1 ... 7 3 2]\n",
      "0.7751219512195122\n",
      "Iteration:  230\n",
      "[4 0 1 ... 7 3 2] [4 0 1 ... 7 3 2]\n",
      "0.7803170731707317\n",
      "Iteration:  240\n",
      "[4 0 1 ... 7 3 2] [4 0 1 ... 7 3 2]\n",
      "0.7851219512195122\n",
      "Iteration:  250\n",
      "[4 0 1 ... 7 3 2] [4 0 1 ... 7 3 2]\n",
      "0.7898048780487805\n",
      "Iteration:  260\n",
      "[4 0 1 ... 7 3 2] [4 0 1 ... 7 3 2]\n",
      "0.7939024390243903\n",
      "Iteration:  270\n",
      "[4 0 1 ... 7 3 2] [4 0 1 ... 7 3 2]\n",
      "0.7970731707317074\n",
      "Iteration:  280\n",
      "[4 0 1 ... 7 3 2] [4 0 1 ... 7 3 2]\n",
      "0.8010731707317074\n",
      "Iteration:  290\n",
      "[4 0 1 ... 7 3 2] [4 0 1 ... 7 3 2]\n",
      "0.8049512195121952\n",
      "Iteration:  300\n",
      "[4 0 1 ... 7 3 2] [4 0 1 ... 7 3 2]\n",
      "0.8086585365853659\n",
      "Iteration:  310\n",
      "[4 0 1 ... 7 3 2] [4 0 1 ... 7 3 2]\n",
      "0.8114878048780488\n",
      "Iteration:  320\n",
      "[4 0 1 ... 7 3 2] [4 0 1 ... 7 3 2]\n",
      "0.8145121951219512\n",
      "Iteration:  330\n",
      "[4 0 1 ... 7 3 2] [4 0 1 ... 7 3 2]\n",
      "0.8175365853658536\n",
      "Iteration:  340\n",
      "[4 0 1 ... 7 3 2] [4 0 1 ... 7 3 2]\n",
      "0.8200487804878048\n",
      "Iteration:  350\n",
      "[4 0 1 ... 7 3 2] [4 0 1 ... 7 3 2]\n",
      "0.8226341463414634\n",
      "Iteration:  360\n",
      "[4 0 1 ... 7 3 2] [4 0 1 ... 7 3 2]\n",
      "0.8251463414634146\n",
      "Iteration:  370\n",
      "[4 0 1 ... 7 3 2] [4 0 1 ... 7 3 2]\n",
      "0.8271951219512195\n",
      "Iteration:  380\n",
      "[4 0 1 ... 7 3 2] [4 0 1 ... 7 3 2]\n",
      "0.8296341463414634\n",
      "Iteration:  390\n",
      "[4 0 1 ... 7 3 2] [4 0 1 ... 7 3 2]\n",
      "0.8319756097560975\n",
      "Iteration:  400\n",
      "[4 0 1 ... 7 3 2] [4 0 1 ... 7 3 2]\n",
      "0.8342926829268292\n",
      "Iteration:  410\n",
      "[4 0 1 ... 7 3 2] [4 0 1 ... 7 3 2]\n",
      "0.8365365853658536\n",
      "Iteration:  420\n",
      "[4 0 1 ... 7 3 2] [4 0 1 ... 7 3 2]\n",
      "0.8388536585365853\n",
      "Iteration:  430\n",
      "[4 0 1 ... 7 3 2] [4 0 1 ... 7 3 2]\n",
      "0.840780487804878\n",
      "Iteration:  440\n",
      "[4 0 1 ... 7 3 2] [4 0 1 ... 7 3 2]\n",
      "0.8424878048780488\n",
      "Iteration:  450\n",
      "[4 0 1 ... 7 3 2] [4 0 1 ... 7 3 2]\n",
      "0.8439756097560975\n",
      "Iteration:  460\n",
      "[4 0 1 ... 7 3 2] [4 0 1 ... 7 3 2]\n",
      "0.8455853658536585\n",
      "Iteration:  470\n",
      "[4 0 1 ... 7 3 2] [4 0 1 ... 7 3 2]\n",
      "0.8475609756097561\n",
      "Iteration:  480\n",
      "[4 0 1 ... 7 3 2] [4 0 1 ... 7 3 2]\n",
      "0.8496341463414634\n",
      "Iteration:  490\n",
      "[4 0 1 ... 7 3 2] [4 0 1 ... 7 3 2]\n",
      "0.8511951219512195\n"
     ]
    }
   ],
   "source": [
    "# training the model\n",
    "W1, b1, W2, b2 = gradient_descent(X_train, Y_train, 500, 0.1)"
   ]
  },
  {
   "cell_type": "markdown",
   "metadata": {},
   "source": [
    "## Visualizing Results"
   ]
  },
  {
   "cell_type": "code",
   "execution_count": 29,
   "metadata": {},
   "outputs": [],
   "source": [
    "# defining functions to viz data\n",
    "def make_predictions(X, W1, b1, W2, b2):\n",
    "    _, _, _, A2 = forward_prop(W1, b1, W2, b2, X)\n",
    "    predictions = get_predictions(A2)\n",
    "    return predictions\n",
    "\n",
    "def test_prediction(index, W1, b1, W2, b2):\n",
    "    current_image = X_train[:, index, None]\n",
    "    prediction = make_predictions(X_train[:, index, None], W1, b1, W2, b2)\n",
    "    label = Y_train[index]\n",
    "    print(\"Prediction: \", prediction)\n",
    "    print(\"Label: \", label)\n",
    "    \n",
    "    current_image = current_image.reshape((28, 28)) * 255\n",
    "    plt.gray()\n",
    "    plt.imshow(current_image, interpolation='nearest')\n",
    "    plt.show()"
   ]
  },
  {
   "cell_type": "code",
   "execution_count": null,
   "metadata": {},
   "outputs": [
    {
     "name": "stdout",
     "output_type": "stream",
     "text": [
      "Prediction:  [4]\n",
      "Label:  4\n"
     ]
    },
    {
     "data": {
      "image/png": "[encoded data removed]",
      "text/plain": [
       "<Figure size 640x480 with 1 Axes>"
      ]
     },
     "metadata": {},
     "output_type": "display_data"
    },
    {
     "name": "stdout",
     "output_type": "stream",
     "text": [
      "Prediction:  [0]\n",
      "Label:  0\n"
     ]
    },
    {
     "data": {
      "image/png": "[encoded data removed]",
      "text/plain": [
       "<Figure size 640x480 with 1 Axes>"
      ]
     },
     "metadata": {},
     "output_type": "display_data"
    },
    {
     "name": "stdout",
     "output_type": "stream",
     "text": [
      "Prediction:  [1]\n",
      "Label:  1\n"
     ]
    },
    {
     "data": {
      "image/png": "[encoded data removed]",
      "text/plain": [
       "<Figure size 640x480 with 1 Axes>"
      ]
     },
     "metadata": {},
     "output_type": "display_data"
    }
   ],
   "source": [
    "# looking at the first three testing examples -> They're all right!\n",
    "test_prediction(0, W1, b1, W2, b2)\n",
    "test_prediction(1, W1, b1, W2, b2)\n",
    "test_prediction(2, W1, b1, W2, b2)"
   ]
  },
  {
   "cell_type": "markdown",
   "metadata": {},
   "source": [
    "#### Finding accuracy on dev set"
   ]
  },
  {
   "cell_type": "code",
   "execution_count": 32,
   "metadata": {},
   "outputs": [
    {
     "name": "stdout",
     "output_type": "stream",
     "text": [
      "[9 9 6 6 1 5 5 3 9 9 5 0 8 6 8 1 5 0 6 3 6 7 8 5 6 1 5 6 2 5 6 8 4 2 7 0 7\n",
      " 4 5 0 1 1 7 3 7 7 1 7 3 1 4 9 7 9 8 8 0 5 8 4 4 2 8 2 6 1 0 0 3 3 1 9 1 2\n",
      " 4 2 7 8 3 6 0 9 6 4 0 4 0 1 0 4 5 8 3 3 2 8 1 8 5 8 9 4 7 7 2 6 4 0 8 8 0\n",
      " 6 5 2 9 7 2 7 8 4 9 3 2 6 7 3 7 5 9 3 3 9 6 8 9 0 6 5 1 9 4 7 2 9 1 9 7 2\n",
      " 9 5 5 5 5 2 0 2 4 8 1 3 3 3 2 0 8 6 1 9 1 9 7 3 3 0 6 4 1 1 6 9 8 4 8 6 8\n",
      " 7 0 6 4 2 5 3 5 7 5 8 6 0 8 4 9 0 5 1 2 1 5 1 2 5 0 9 8 8 2 6 4 3 7 6 8 9\n",
      " 1 4 1 2 7 3 3 7 7 6 5 4 8 6 1 0 3 7 6 1 9 1 1 0 4 4 3 7 8 6 6 6 4 1 1 7 7\n",
      " 7 3 8 9 8 8 6 4 2 3 4 0 2 9 9 9 8 7 5 7 6 6 7 4 7 8 0 6 2 0 5 2 5 6 5 0 1\n",
      " 4 7 8 4 4 2 9 7 4 7 5 6 1 8 6 7 0 7 1 3 3 2 6 4 0 3 3 9 7 9 7 7 9 7 7 0 6\n",
      " 5 6 1 4 1 1 8 2 7 0 3 6 9 2 2 6 3 0 8 7 4 6 0 6 9 0 6 6 8 1 0 2 5 7 0 5 6\n",
      " 8 2 2 4 8 2 6 1 5 4 4 9 3 9 3 5 6 7 6 4 3 3 6 1 9 3 5 4 1 5 8 9 9 3 0 9 3\n",
      " 8 4 9 5 4 8 4 8 1 2 9 7 1 9 4 7 8 6 1 1 9 0 0 3 7 3 8 2 3 0 9 4 6 7 6 9 6\n",
      " 8 0 2 0 5 3 7 9 3 4 2 1 7 4 8 1 5 8 0 4 4 0 8 2 1 0 8 1 4 7 3 4 6 1 2 9 3\n",
      " 3 5 0 6 8 5 7 2 6 1 5 3 6 7 3 3 0 8 7 2 1 8 7 8 0 6 6 5 4 3 1 3 3 0 3 1 9\n",
      " 1 7 9 1 8 1 5 2 2 7 1 3 9 0 6 4 2 8 4 7 2 7 6 4 9 3 6 1 3 2 4 5 5 4 3 1 7\n",
      " 3 6 9 8 5 8 4 6 9 7 6 3 0 1 6 7 1 0 3 2 7 0 2 2 6 1 4 7 2 0 8 6 1 9 0 4 0\n",
      " 3 0 6 2 0 5 5 3 1 4 2 6 4 6 9 0 5 1 3 1 3 7 9 7 3 2 1 9 4 5 8 6 7 1 0 6 3\n",
      " 1 1 9 4 9 2 3 4 3 9 4 6 4 7 3 3 3 0 3 0 0 9 2 9 0 4 6 6 9 3 2 0 8 9 2 5 3\n",
      " 9 4 9 5 0 6 9 5 3 0 3 2 7 6 1 3 8 1 9 9 4 1 2 5 0 1 8 7 8 7 3 9 5 8 8 9 1\n",
      " 7 8 9 2 6 5 5 6 0 1 5 2 2 6 1 0 6 7 6 9 6 2 6 7 2 0 6 7 7 2 3 3 3 0 6 1 2\n",
      " 2 1 8 3 3 0 0 0 1 2 4 6 9 4 6 6 3 1 6 0 4 1 7 3 4 9 4 9 9 8 1 4 3 7 3 4 4\n",
      " 4 6 1 3 5 5 1 7 4 4 6 2 0 6 4 6 4 9 0 3 0 2 4 0 1 0 7 7 0 2 0 1 6 4 1 4 3\n",
      " 3 6 1 2 9 4 0 1 3 9 7 4 3 0 0 4 8 9 0 1 5 5 6 3 5 4 2 6 5 1 1 1 2 4 2 8 8\n",
      " 0 6 9 2 8 0 0 7 8 5 1 5 6 9 5 7 9 5 2 9 8 9 5 4 0 0 2 0 6 0 0 7 4 4 7 2 6\n",
      " 1 1 0 7 9 1 9 5 4 5 6 5 8 0 2 8 0 1 5 2 3 9 4 6 6 9 7 8 4 3 7 1 8 6 4 1 3\n",
      " 2 6 2 0 7 6 0 3 1 7 9 2 9 1 6 0 6 1 9 0 1 5 0 9 7 8 5 7 8 1 4 0 8 7 2 9 5\n",
      " 3 8 4 8 0 1 7 9 8 9 2 2 1 1 1 1 9 9 4 7 1 6 5 6 4 3 1 5 4 4 0 3 4 3 5 0 0\n",
      " 1] [9 7 6 6 1 5 5 3 9 9 3 0 8 6 8 1 5 0 2 3 6 7 4 5 6 1 5 2 2 5 6 5 4 2 7 0 7\n",
      " 2 5 5 1 1 7 3 7 7 1 7 3 1 4 9 7 9 8 8 6 5 5 4 4 5 8 2 6 1 0 0 3 8 1 4 1 2\n",
      " 4 2 7 8 3 6 5 9 5 4 0 4 0 1 0 4 5 8 3 3 2 8 1 0 6 2 9 4 7 7 2 6 4 0 8 2 0\n",
      " 6 5 2 4 7 2 9 8 4 7 3 2 6 7 3 7 3 9 8 3 9 6 8 9 0 6 5 1 9 4 7 2 7 1 9 7 2\n",
      " 9 5 5 5 3 2 0 1 4 8 1 3 2 0 2 0 8 6 1 2 1 9 7 3 3 0 6 4 1 8 6 7 8 4 8 6 8\n",
      " 7 0 6 4 2 5 3 5 7 5 8 6 0 8 9 9 0 3 1 2 1 5 1 5 6 0 9 8 8 3 6 4 3 7 6 8 9\n",
      " 1 4 1 6 7 3 3 7 7 6 5 4 8 6 1 0 3 7 6 1 9 1 8 0 4 4 3 7 8 6 6 6 4 1 1 7 7\n",
      " 7 3 3 9 3 5 6 4 2 3 4 9 3 9 4 9 4 7 8 7 6 6 7 4 7 8 0 6 2 0 5 2 5 6 5 0 1\n",
      " 4 7 8 6 4 2 9 9 4 7 5 5 1 8 6 7 0 9 1 3 3 2 6 4 0 3 5 4 7 9 7 3 9 7 7 0 6\n",
      " 5 6 1 4 1 1 8 2 7 0 3 6 9 2 2 6 3 0 8 7 4 6 0 6 9 0 8 6 8 1 0 2 5 7 0 5 6\n",
      " 8 2 2 9 8 0 6 1 5 4 4 9 3 9 3 5 9 7 6 4 3 3 6 1 8 3 5 4 3 1 8 9 4 3 0 5 5\n",
      " 8 8 9 5 9 8 4 8 1 2 9 7 1 9 4 7 8 6 1 1 7 0 0 3 7 3 8 2 3 6 9 4 6 7 6 9 6\n",
      " 8 0 2 0 5 3 7 4 3 4 2 1 2 4 8 1 5 8 0 4 4 0 8 3 1 0 8 1 4 7 3 4 6 1 2 9 3\n",
      " 3 5 0 6 8 5 7 2 6 1 5 3 5 7 3 3 0 8 7 8 1 8 9 8 0 6 6 5 4 3 1 3 2 0 3 1 9\n",
      " 1 7 9 8 8 1 5 2 2 7 8 3 9 0 6 4 2 8 9 7 2 7 6 4 9 3 6 1 3 2 9 5 5 4 3 1 7\n",
      " 3 2 9 8 5 3 1 6 9 8 6 1 0 1 6 7 1 0 3 2 7 0 2 2 6 1 4 7 2 0 8 6 1 9 0 4 0\n",
      " 3 0 6 0 0 5 6 3 1 4 2 6 4 6 9 0 5 1 3 3 3 9 5 7 2 2 1 9 4 5 3 6 7 1 0 6 3\n",
      " 1 1 7 9 9 2 3 4 3 9 4 6 9 7 3 3 5 0 3 0 0 9 2 9 0 4 6 6 5 3 2 6 8 9 2 5 3\n",
      " 9 4 9 5 5 6 9 5 5 0 3 2 7 6 1 3 8 1 7 9 4 1 2 5 0 1 8 7 8 7 0 9 3 8 8 9 1\n",
      " 7 8 9 2 6 5 8 6 0 1 5 2 3 6 1 0 6 7 6 9 6 2 6 7 2 0 6 7 7 2 3 3 3 0 6 1 1\n",
      " 2 1 8 3 5 0 0 0 1 2 4 6 9 4 6 6 3 1 6 0 4 1 7 3 4 9 4 9 9 6 1 4 3 7 3 4 4\n",
      " 4 6 1 5 5 5 1 7 4 5 5 2 2 6 4 4 4 4 5 3 0 2 7 0 1 0 7 7 0 2 0 1 6 4 1 4 3\n",
      " 3 6 1 2 9 4 0 3 3 9 7 9 3 0 0 4 8 5 0 1 8 5 6 3 5 4 2 6 3 1 1 1 2 4 2 3 8\n",
      " 0 6 3 2 3 0 0 7 8 5 1 5 2 5 5 7 9 2 2 9 8 9 0 4 0 0 4 0 6 0 0 7 4 4 7 2 6\n",
      " 1 1 5 7 9 1 9 3 4 5 6 5 5 0 2 8 0 1 9 2 5 5 4 6 6 9 7 8 4 5 7 1 3 6 4 1 3\n",
      " 2 6 2 0 7 6 0 3 1 7 9 2 9 1 6 0 6 1 9 0 1 5 0 9 7 8 5 7 8 1 7 0 8 7 3 9 8\n",
      " 3 8 4 8 0 1 7 9 8 4 2 2 1 1 1 1 4 9 4 7 1 6 8 6 4 3 1 5 4 4 0 3 4 5 5 0 5\n",
      " 1]\n"
     ]
    },
    {
     "data": {
      "text/plain": [
       "np.float64(0.856)"
      ]
     },
     "execution_count": 32,
     "metadata": {},
     "output_type": "execute_result"
    }
   ],
   "source": [
    "dev_predictions = make_predictions(X_dev, W1, b1, W2, b2)\n",
    "get_accuracy(dev_predictions, Y_dev)"
   ]
  },
  {
   "cell_type": "markdown",
   "metadata": {},
   "source": [
    "Accuracy was ~86% which is pretty good for our simple neural network!"
   ]
  }
 ],
 "metadata": {
  "kernelspec": {
   "display_name": "venv",
   "language": "python",
   "name": "python3"
  },
  "language_info": {
   "codemirror_mode": {
    "name": "ipython",
    "version": 3
   },
   "file_extension": ".py",
   "mimetype": "text/x-python",
   "name": "python",
   "nbconvert_exporter": "python",
   "pygments_lexer": "ipython3",
   "version": "3.11.4"
  }
 },
 "nbformat": 4,
 "nbformat_minor": 2
}
